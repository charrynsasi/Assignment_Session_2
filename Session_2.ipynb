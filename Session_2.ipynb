{
 "cells": [
  {
   "cell_type": "markdown",
   "metadata": {},
   "source": [
    "1. Write a program which accepts a sequence of comma-separated numbers from console and\n",
    "generate a list."
   ]
  },
  {
   "cell_type": "code",
   "execution_count": 1,
   "metadata": {},
   "outputs": [
    {
     "name": "stdout",
     "output_type": "stream",
     "text": [
      "Enter a sequence of comma-separated numbers1,2,3,9,10,11,0,6\n",
      "['1', '2', '3', '9', '10', '11', '0', '6']\n"
     ]
    }
   ],
   "source": [
    "inp=input('Enter a sequence of comma-separated numbers')\n",
    "my_list=inp.split(',')\n",
    "print (my_list)"
   ]
  },
  {
   "cell_type": "markdown",
   "metadata": {},
   "source": [
    "2. Create the below pattern using nested for loop in Python."
   ]
  },
  {
   "cell_type": "code",
   "execution_count": 3,
   "metadata": {},
   "outputs": [
    {
     "name": "stdout",
     "output_type": "stream",
     "text": [
      "\n",
      "*\n",
      "**\n",
      "***\n",
      "****\n",
      "*****\n",
      "****\n",
      "***\n",
      "**\n",
      "*\n"
     ]
    }
   ],
   "source": [
    "for i in range(5):\n",
    "    for t in range(i):\n",
    "        print ('*', end='')\n",
    "    print('')\n",
    "for i in range(5,0,-1):\n",
    "    for t in range(i):\n",
    "        print('*', end='')\n",
    "    print('')"
   ]
  },
  {
   "cell_type": "markdown",
   "metadata": {},
   "source": [
    "3. Write a Python program to reverse a word after accepting the input from the user."
   ]
  },
  {
   "cell_type": "code",
   "execution_count": 9,
   "metadata": {},
   "outputs": [
    {
     "name": "stdout",
     "output_type": "stream",
     "text": [
      "Input World: AcadGild\n",
      "dliGdacA\n"
     ]
    }
   ],
   "source": [
    "inp=input('Input World: ')\n",
    "print(inp[::-1])"
   ]
  },
  {
   "cell_type": "markdown",
   "metadata": {},
   "source": [
    "4. Write a Python Program to print the given string in the format specified in the sample\n",
    "output."
   ]
  },
  {
   "cell_type": "code",
   "execution_count": 39,
   "metadata": {},
   "outputs": [
    {
     "name": "stdout",
     "output_type": "stream",
     "text": [
      "WE, THE PEOPLE OF INDIA, \n",
      "      having solemnly resolved to constitute India into a SOVEREIGN, !\n",
      "\t     SOCIALIST, SECULAR, DEMOCRATIC REPUBLIC\n",
      "\t      and to secure to all its citizens\n"
     ]
    }
   ],
   "source": [
    "print('WE, THE PEOPLE OF INDIA, \\n{}having solemnly resolved to constitute India into a SOVEREIGN,{}\\n\\t{}SOCIALIST, SECULAR, DEMOCRATIC REPUBLIC\\n\\t{}and to secure to all its citizens'.format('      ',' !','     ','      '))"
   ]
  },
  {
   "cell_type": "code",
   "execution_count": null,
   "metadata": {},
   "outputs": [],
   "source": []
  }
 ],
 "metadata": {
  "kernelspec": {
   "display_name": "Python 3",
   "language": "python",
   "name": "python3"
  },
  "language_info": {
   "codemirror_mode": {
    "name": "ipython",
    "version": 3
   },
   "file_extension": ".py",
   "mimetype": "text/x-python",
   "name": "python",
   "nbconvert_exporter": "python",
   "pygments_lexer": "ipython3",
   "version": "3.7.0"
  }
 },
 "nbformat": 4,
 "nbformat_minor": 2
}
